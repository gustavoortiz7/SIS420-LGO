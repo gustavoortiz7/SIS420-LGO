{
  "nbformat": 4,
  "nbformat_minor": 0,
  "metadata": {
    "colab": {
      "name": "Regresion_PolinomialLab8.ipynb",
      "provenance": []
    },
    "kernelspec": {
      "name": "python3",
      "display_name": "Python 3"
    },
    "language_info": {
      "name": "python"
    }
  },
  "cells": [
    {
      "cell_type": "code",
      "execution_count": 171,
      "metadata": {
        "colab": {
          "base_uri": "https://localhost:8080/"
        },
        "id": "Ykf7ZtBUU0qr",
        "outputId": "41506cd9-2948-4e6c-9cdb-3e20562ad612"
      },
      "outputs": [
        {
          "output_type": "stream",
          "name": "stdout",
          "text": [
            "Drive already mounted at /content/gdrive; to attempt to forcibly remount, call drive.mount(\"/content/gdrive\", force_remount=True).\n"
          ]
        }
      ],
      "source": [
        "from google.colab import drive\n",
        "drive.mount(\"/content/gdrive\")"
      ]
    },
    {
      "cell_type": "code",
      "source": [
        "#utilizado para manejos de directorios y rutas\n",
        "import os\n",
        "\n",
        "#Computacion vectorial y cientifica para python\n",
        "import numpy as np\n",
        "import pandas as pd\n",
        "import csv\n",
        "import numpy as np\n",
        "from sklearn import linear_model\n",
        "from sklearn.linear_model import LinearRegression\n",
        "from sklearn.metrics import mean_squared_error\n",
        "#Librerias para graficación\n",
        "from matplotlib import pyplot\n",
        "# Necesario para graficar superficies 3D\n",
        "from mpl_toolkits.mplot3d import Axes3D\n",
        "\n",
        "#llama a matplotlib a embeber graficas dentro de los cuadernillos\n",
        "%matplotlib inline"
      ],
      "metadata": {
        "id": "S_01kytsU6F6"
      },
      "execution_count": 172,
      "outputs": []
    },
    {
      "cell_type": "code",
      "source": [
        "#Cargar y leer datos\n",
        "import pandas as pd\n",
        "data = pd.read_excel('/content/gdrive/MyDrive/Colab Notebooks/SIS420/DataSet/datasetBubbleTea.xlsx', index_col=0)\n",
        "print(data)\n",
        "print(data.shape)\n",
        "data_top=data.head()\n",
        "data.head()\n",
        "#data = np.loadtxt('/content/gdrive/MyDrive/Colab Notebooks/SIS420/DataSet/datasetBubbleTea.xlsx', delimiter=\",\",skiprows=1)\n",
        "#print(data)\n",
        "X = data[['Cantidad']]\n",
        "#df['TOTAL']\n",
        "\n",
        "print(X)\n",
        "y = data['Total']\n",
        "print(y)\n",
        "m = y.size\n",
        "#for i in range(26):\n",
        " #   print('{:8.0f}{:10.0f}'.format(X[i], y[i]))"
      ],
      "metadata": {
        "colab": {
          "base_uri": "https://localhost:8080/"
        },
        "id": "ch_D2G_XU7rJ",
        "outputId": "fc44ae35-7a40-4b66-c263-6cdef4a26aa2"
      },
      "execution_count": 173,
      "outputs": [
        {
          "output_type": "stream",
          "name": "stdout",
          "text": [
            "           Con Tapioca? Tipo de Bubble Tea  Costo/unidad  Cantidad   Total\n",
            "Num Pedido                                                                \n",
            "51                   no             Blanco         18.23         2   36.46\n",
            "8                    si             Oolong         22.89         5  114.45\n",
            "5                    no             Matcha         29.72         4  118.88\n",
            "20                   no        Aromatizado         18.78         5   93.90\n",
            "25                   no              Verde         21.61         2   43.22\n",
            "30                   si       Massala Chai         24.31         3   72.93\n",
            "3                    si              Puerh         17.20         1   17.20\n",
            "37                   no              Negro         27.89         2   55.78\n",
            "55                   no       Matcha Kyoto         22.96         5  114.80\n",
            "49                   si           Fusionka         25.32         2   50.64\n",
            "14                   no             Jasmin         28.42         4  113.68\n",
            "6                    no           Amarillo         20.73         2   41.46\n",
            "56                   no             Tencha         29.97         5  149.85\n",
            "49                   no            Lavanda         15.74         3   47.22\n",
            "22                   no         Choco Milk         20.80         2   41.60\n",
            "53                   si          Kyonbacha         24.53         4   98.12\n",
            "47                   no         Strawberry         29.60         4  118.40\n",
            "22                   no     Matcha Fukuoka         22.60         2   45.20\n",
            "11                   si           Vainilla         22.37         2   44.74\n",
            "32                   no         Milk Black         23.30         3   69.90\n",
            "30                   si              Melon         28.17         2   56.34\n",
            "48                   no       Frutilla Zen         26.21         1   26.21\n",
            "55                   si    Taro, Chocolate         23.81         5  119.05\n",
            "19                   si         Coco Dream         19.16         4   76.64\n",
            "7                    si        Choco Menta         26.81         5  134.05\n",
            "4                    si       Frutos Rojos         28.94         5  144.70\n",
            "47                   si             Lychee         28.49         3   85.47\n",
            "17                   no        Brown Sugar         17.94         5   89.70\n",
            "6                    si              Limon         28.08         1   28.08\n",
            "39                   no            Manzana         25.94         1   25.94\n",
            "30                   si   Flan al Caramelo         27.81         2   55.62\n",
            "56                   si          BTH Fruit         25.43         2   50.86\n",
            "10                   no         Green Kiwi         24.14         4   96.56\n",
            "50                   si      Black & Spicy         28.21         4  112.84\n",
            "16                   si        Melon Verde         19.98         4   79.92\n",
            "32                   si     Choco Avellana         16.21         4   64.84\n",
            "44                   no     Mouse Maracuya         27.44         3   82.32\n",
            "9                    no            Marango         24.85         4   99.40\n",
            "56                   no      Almendra Azul         17.04         5   85.20\n",
            "14                   no         Ginger Ade         25.68         1   25.68\n",
            "16                   no        Almond Milk         16.92         5   84.60\n",
            "8                    no               Thai         22.41         2   44.82\n",
            "3                    si             Flores         18.58         2   37.16\n",
            "23                   si        Hibisco Pea         24.59         5  122.95\n",
            "29                   si     Mouse Frutilla         20.40         4   81.60\n",
            "45                   si         Terciopelo         18.79         5   93.95\n",
            "29                   no  Caramel Macchiato         21.52         2   43.04\n",
            "7                    no        Melon Menta         22.22         4   88.88\n",
            "12                   no       Berry Matcha         20.69         4   82.76\n",
            "16                   no         Chai Verde         24.82         3   74.46\n",
            "6                    si          Wax Melon         15.33         3   45.99\n",
            "48                   no    Almendra Matcha         21.77         2   43.54\n",
            "7                    si          Coco&Azul         27.76         1   27.76\n",
            "7                    si               Moka         20.67         4   82.68\n",
            "38                   si         Aloe Verde         18.52         5   92.60\n",
            "52                   si      Limonada Azul         26.78         5  133.90\n",
            "(56, 5)\n",
            "            Cantidad\n",
            "Num Pedido          \n",
            "51                 2\n",
            "8                  5\n",
            "5                  4\n",
            "20                 5\n",
            "25                 2\n",
            "30                 3\n",
            "3                  1\n",
            "37                 2\n",
            "55                 5\n",
            "49                 2\n",
            "14                 4\n",
            "6                  2\n",
            "56                 5\n",
            "49                 3\n",
            "22                 2\n",
            "53                 4\n",
            "47                 4\n",
            "22                 2\n",
            "11                 2\n",
            "32                 3\n",
            "30                 2\n",
            "48                 1\n",
            "55                 5\n",
            "19                 4\n",
            "7                  5\n",
            "4                  5\n",
            "47                 3\n",
            "17                 5\n",
            "6                  1\n",
            "39                 1\n",
            "30                 2\n",
            "56                 2\n",
            "10                 4\n",
            "50                 4\n",
            "16                 4\n",
            "32                 4\n",
            "44                 3\n",
            "9                  4\n",
            "56                 5\n",
            "14                 1\n",
            "16                 5\n",
            "8                  2\n",
            "3                  2\n",
            "23                 5\n",
            "29                 4\n",
            "45                 5\n",
            "29                 2\n",
            "7                  4\n",
            "12                 4\n",
            "16                 3\n",
            "6                  3\n",
            "48                 2\n",
            "7                  1\n",
            "7                  4\n",
            "38                 5\n",
            "52                 5\n",
            "Num Pedido\n",
            "51     36.46\n",
            "8     114.45\n",
            "5     118.88\n",
            "20     93.90\n",
            "25     43.22\n",
            "30     72.93\n",
            "3      17.20\n",
            "37     55.78\n",
            "55    114.80\n",
            "49     50.64\n",
            "14    113.68\n",
            "6      41.46\n",
            "56    149.85\n",
            "49     47.22\n",
            "22     41.60\n",
            "53     98.12\n",
            "47    118.40\n",
            "22     45.20\n",
            "11     44.74\n",
            "32     69.90\n",
            "30     56.34\n",
            "48     26.21\n",
            "55    119.05\n",
            "19     76.64\n",
            "7     134.05\n",
            "4     144.70\n",
            "47     85.47\n",
            "17     89.70\n",
            "6      28.08\n",
            "39     25.94\n",
            "30     55.62\n",
            "56     50.86\n",
            "10     96.56\n",
            "50    112.84\n",
            "16     79.92\n",
            "32     64.84\n",
            "44     82.32\n",
            "9      99.40\n",
            "56     85.20\n",
            "14     25.68\n",
            "16     84.60\n",
            "8      44.82\n",
            "3      37.16\n",
            "23    122.95\n",
            "29     81.60\n",
            "45     93.95\n",
            "29     43.04\n",
            "7      88.88\n",
            "12     82.76\n",
            "16     74.46\n",
            "6      45.99\n",
            "48     43.54\n",
            "7      27.76\n",
            "7      82.68\n",
            "38     92.60\n",
            "52    133.90\n",
            "Name: Total, dtype: float64\n"
          ]
        }
      ]
    },
    {
      "cell_type": "code",
      "source": [
        "#definicion de funcion que grafica los puntos x & y\n",
        "def plotData(x, y):\n",
        "    #abre una nueva figura\n",
        "    fig = pyplot.figure()  \n",
        "    \n",
        "    pyplot.plot(x, y, 'ro', ms=10, mec='k')\n",
        "    pyplot.ylabel('Cantidad')\n",
        "    pyplot.xlabel('Costo Bubble Tea 1,000s')"
      ],
      "metadata": {
        "id": "oMUAY5wnV-X3"
      },
      "execution_count": 174,
      "outputs": []
    },
    {
      "cell_type": "code",
      "source": [
        "plotData(X, y)"
      ],
      "metadata": {
        "id": "fEx1pQetWA76",
        "colab": {
          "base_uri": "https://localhost:8080/",
          "height": 279
        },
        "outputId": "0a076f38-f51b-46e2-a0e7-eccfc561245d"
      },
      "execution_count": 175,
      "outputs": [
        {
          "output_type": "display_data",
          "data": {
            "text/plain": [
              "<Figure size 432x288 with 1 Axes>"
            ],
            "image/png": "[encoded data removed]"
          },
          "metadata": {
            "needs_background": "light"
          }
        }
      ]
    },
    {
      "cell_type": "code",
      "source": [
        "x = np.concatenate([X, X * X],axis=1)\n",
        "a=x[:56]\n",
        "print(a)\n",
        "b=x[56:]\n",
        "print(b)\n",
        "\n",
        "X=np.concatenate((a,b),axis=0)\n"
      ],
      "metadata": {
        "id": "vRtV5UgIWJBw",
        "colab": {
          "base_uri": "https://localhost:8080/"
        },
        "outputId": "eba06cc3-fe51-41f4-91d8-398bf5cdf6c1"
      },
      "execution_count": 176,
      "outputs": [
        {
          "output_type": "stream",
          "name": "stdout",
          "text": [
            "[[ 2  4]\n",
            " [ 5 25]\n",
            " [ 4 16]\n",
            " [ 5 25]\n",
            " [ 2  4]\n",
            " [ 3  9]\n",
            " [ 1  1]\n",
            " [ 2  4]\n",
            " [ 5 25]\n",
            " [ 2  4]\n",
            " [ 4 16]\n",
            " [ 2  4]\n",
            " [ 5 25]\n",
            " [ 3  9]\n",
            " [ 2  4]\n",
            " [ 4 16]\n",
            " [ 4 16]\n",
            " [ 2  4]\n",
            " [ 2  4]\n",
            " [ 3  9]\n",
            " [ 2  4]\n",
            " [ 1  1]\n",
            " [ 5 25]\n",
            " [ 4 16]\n",
            " [ 5 25]\n",
            " [ 5 25]\n",
            " [ 3  9]\n",
            " [ 5 25]\n",
            " [ 1  1]\n",
            " [ 1  1]\n",
            " [ 2  4]\n",
            " [ 2  4]\n",
            " [ 4 16]\n",
            " [ 4 16]\n",
            " [ 4 16]\n",
            " [ 4 16]\n",
            " [ 3  9]\n",
            " [ 4 16]\n",
            " [ 5 25]\n",
            " [ 1  1]\n",
            " [ 5 25]\n",
            " [ 2  4]\n",
            " [ 2  4]\n",
            " [ 5 25]\n",
            " [ 4 16]\n",
            " [ 5 25]\n",
            " [ 2  4]\n",
            " [ 4 16]\n",
            " [ 4 16]\n",
            " [ 3  9]\n",
            " [ 3  9]\n",
            " [ 2  4]\n",
            " [ 1  1]\n",
            " [ 4 16]\n",
            " [ 5 25]\n",
            " [ 5 25]]\n",
            "[]\n"
          ]
        }
      ]
    },
    {
      "cell_type": "code",
      "source": [
        "print(X)"
      ],
      "metadata": {
        "id": "MOHqEasoWMEf",
        "colab": {
          "base_uri": "https://localhost:8080/"
        },
        "outputId": "c582c7e8-7482-435c-fe80-f5d6ad29606b"
      },
      "execution_count": 177,
      "outputs": [
        {
          "output_type": "stream",
          "name": "stdout",
          "text": [
            "[[ 2  4]\n",
            " [ 5 25]\n",
            " [ 4 16]\n",
            " [ 5 25]\n",
            " [ 2  4]\n",
            " [ 3  9]\n",
            " [ 1  1]\n",
            " [ 2  4]\n",
            " [ 5 25]\n",
            " [ 2  4]\n",
            " [ 4 16]\n",
            " [ 2  4]\n",
            " [ 5 25]\n",
            " [ 3  9]\n",
            " [ 2  4]\n",
            " [ 4 16]\n",
            " [ 4 16]\n",
            " [ 2  4]\n",
            " [ 2  4]\n",
            " [ 3  9]\n",
            " [ 2  4]\n",
            " [ 1  1]\n",
            " [ 5 25]\n",
            " [ 4 16]\n",
            " [ 5 25]\n",
            " [ 5 25]\n",
            " [ 3  9]\n",
            " [ 5 25]\n",
            " [ 1  1]\n",
            " [ 1  1]\n",
            " [ 2  4]\n",
            " [ 2  4]\n",
            " [ 4 16]\n",
            " [ 4 16]\n",
            " [ 4 16]\n",
            " [ 4 16]\n",
            " [ 3  9]\n",
            " [ 4 16]\n",
            " [ 5 25]\n",
            " [ 1  1]\n",
            " [ 5 25]\n",
            " [ 2  4]\n",
            " [ 2  4]\n",
            " [ 5 25]\n",
            " [ 4 16]\n",
            " [ 5 25]\n",
            " [ 2  4]\n",
            " [ 4 16]\n",
            " [ 4 16]\n",
            " [ 3  9]\n",
            " [ 3  9]\n",
            " [ 2  4]\n",
            " [ 1  1]\n",
            " [ 4 16]\n",
            " [ 5 25]\n",
            " [ 5 25]]\n"
          ]
        }
      ]
    },
    {
      "cell_type": "code",
      "source": [
        "#definicion de funcion que calcula la desviacion estandar\n",
        "def  featureNormalize(X):\n",
        "    X_norm = X.copy()\n",
        "    mu = np.zeros(X.shape[1])\n",
        "    sigma = np.zeros(X.shape[1])\n",
        "\n",
        "    mu = np.mean(X, axis =0 )\n",
        "    sigma = np.std(X, axis = 0)\n",
        "    X_norm = (X - mu) / sigma\n",
        "    return X_norm, mu, sigma"
      ],
      "metadata": {
        "id": "VUbDFcg6WOOw"
      },
      "execution_count": 178,
      "outputs": []
    },
    {
      "cell_type": "code",
      "source": [
        "#llama featureNormalize con los datos cargados\n",
        "X_norm, mu, sigma = featureNormalize(X)"
      ],
      "metadata": {
        "id": "JFbaAa6KWO0T"
      },
      "execution_count": 179,
      "outputs": []
    },
    {
      "cell_type": "code",
      "source": [
        "plotData(X_norm, y)"
      ],
      "metadata": {
        "id": "oh71mvEJWXQV",
        "colab": {
          "base_uri": "https://localhost:8080/",
          "height": 279
        },
        "outputId": "79d63981-b0f4-409d-9dac-f9ba36904284"
      },
      "execution_count": 180,
      "outputs": [
        {
          "output_type": "display_data",
          "data": {
            "text/plain": [
              "<Figure size 432x288 with 1 Axes>"
            ],
            "image/png": "[encoded data removed]"
          },
          "metadata": {
            "needs_background": "light"
          }
        }
      ]
    },
    {
      "cell_type": "code",
      "source": [
        "#Añade el termino de interseccion a X\n",
        "#(Columna de 1's para X0)\n",
        "X = np.concatenate([np.ones((m, 1)), X_norm],axis=1)\n",
        "print(X)"
      ],
      "metadata": {
        "id": "bNhFi7iGWcnp",
        "colab": {
          "base_uri": "https://localhost:8080/"
        },
        "outputId": "18710008-0280-4012-9db6-54f52866157b"
      },
      "execution_count": 181,
      "outputs": [
        {
          "output_type": "stream",
          "name": "stdout",
          "text": [
            "[[ 1.         -0.92599069 -0.9736597 ]\n",
            " [ 1.          1.26508587  1.41678666]\n",
            " [ 1.          0.53472702  0.39230965]\n",
            " [ 1.          1.26508587  1.41678666]\n",
            " [ 1.         -0.92599069 -0.9736597 ]\n",
            " [ 1.         -0.19563184 -0.4045058 ]\n",
            " [ 1.         -1.65634954 -1.31515203]\n",
            " [ 1.         -0.92599069 -0.9736597 ]\n",
            " [ 1.          1.26508587  1.41678666]\n",
            " [ 1.         -0.92599069 -0.9736597 ]\n",
            " [ 1.          0.53472702  0.39230965]\n",
            " [ 1.         -0.92599069 -0.9736597 ]\n",
            " [ 1.          1.26508587  1.41678666]\n",
            " [ 1.         -0.19563184 -0.4045058 ]\n",
            " [ 1.         -0.92599069 -0.9736597 ]\n",
            " [ 1.          0.53472702  0.39230965]\n",
            " [ 1.          0.53472702  0.39230965]\n",
            " [ 1.         -0.92599069 -0.9736597 ]\n",
            " [ 1.         -0.92599069 -0.9736597 ]\n",
            " [ 1.         -0.19563184 -0.4045058 ]\n",
            " [ 1.         -0.92599069 -0.9736597 ]\n",
            " [ 1.         -1.65634954 -1.31515203]\n",
            " [ 1.          1.26508587  1.41678666]\n",
            " [ 1.          0.53472702  0.39230965]\n",
            " [ 1.          1.26508587  1.41678666]\n",
            " [ 1.          1.26508587  1.41678666]\n",
            " [ 1.         -0.19563184 -0.4045058 ]\n",
            " [ 1.          1.26508587  1.41678666]\n",
            " [ 1.         -1.65634954 -1.31515203]\n",
            " [ 1.         -1.65634954 -1.31515203]\n",
            " [ 1.         -0.92599069 -0.9736597 ]\n",
            " [ 1.         -0.92599069 -0.9736597 ]\n",
            " [ 1.          0.53472702  0.39230965]\n",
            " [ 1.          0.53472702  0.39230965]\n",
            " [ 1.          0.53472702  0.39230965]\n",
            " [ 1.          0.53472702  0.39230965]\n",
            " [ 1.         -0.19563184 -0.4045058 ]\n",
            " [ 1.          0.53472702  0.39230965]\n",
            " [ 1.          1.26508587  1.41678666]\n",
            " [ 1.         -1.65634954 -1.31515203]\n",
            " [ 1.          1.26508587  1.41678666]\n",
            " [ 1.         -0.92599069 -0.9736597 ]\n",
            " [ 1.         -0.92599069 -0.9736597 ]\n",
            " [ 1.          1.26508587  1.41678666]\n",
            " [ 1.          0.53472702  0.39230965]\n",
            " [ 1.          1.26508587  1.41678666]\n",
            " [ 1.         -0.92599069 -0.9736597 ]\n",
            " [ 1.          0.53472702  0.39230965]\n",
            " [ 1.          0.53472702  0.39230965]\n",
            " [ 1.         -0.19563184 -0.4045058 ]\n",
            " [ 1.         -0.19563184 -0.4045058 ]\n",
            " [ 1.         -0.92599069 -0.9736597 ]\n",
            " [ 1.         -1.65634954 -1.31515203]\n",
            " [ 1.          0.53472702  0.39230965]\n",
            " [ 1.          1.26508587  1.41678666]\n",
            " [ 1.          1.26508587  1.41678666]]\n"
          ]
        }
      ]
    },
    {
      "cell_type": "code",
      "source": [
        "#definicion de funcion para calcular el costo\n",
        "def computeCostMulti(X, y, theta):\n",
        "    #Inicializa algunos valores que seran utiles\n",
        "    m = y.shape[0] #numero de ejemplos de entrenamiento\n",
        "    J = 0\n",
        "    h = np.dot(X, theta)\n",
        "    J = (1/(2 * m)) * np.sum(np.square(np.dot(X, theta) - y))\n",
        "    return J"
      ],
      "metadata": {
        "id": "Dfla3rf8Wf-b"
      },
      "execution_count": 182,
      "outputs": []
    },
    {
      "cell_type": "code",
      "source": [
        "#definicion de funcion para calcular el descenso por el gradiente\n",
        "def gradientDescentMulti(X, y, theta, alpha, num_iters):\n",
        "    #Inicializa algunos valores \n",
        "    m = y.shape[0] # numero de ejemplos de entrenamiento\n",
        "    \n",
        "    # realiza una copia de theta, el cual será acutalizada por el descenso por el gradiente\n",
        "    theta = theta.copy()\n",
        "    \n",
        "    J_history = []\n",
        "    for i in range(num_iters):\n",
        "        theta = theta - (alpha / m) * (np.dot(X, theta) - y).dot(X)\n",
        "        J_history.append(computeCostMulti(X, y, theta))\n",
        "    return theta, J_history"
      ],
      "metadata": {
        "id": "73_7M58bWgmx"
      },
      "execution_count": 183,
      "outputs": []
    },
    {
      "cell_type": "code",
      "source": [
        "#Elegir algun valor para alpha (probar varias alternativas)\n",
        "alpha = 0.0003\n",
        "num_iters = 100000\n",
        "\n",
        "#inicializa theta y ejecuta el descenso por el gradiente\n",
        "theta = np.zeros(3)\n",
        "theta, J_history = gradientDescentMulti(X, y, theta, alpha, num_iters)\n",
        "\n",
        "#Grafica la convergencia del costo\n",
        "pyplot.plot(np.arange(len(J_history)), J_history, lw=2)\n",
        "pyplot.xlabel('Numero de iteraciones')\n",
        "pyplot.ylabel('Costo J')\n",
        "\n",
        "#Muestra los resultados del descenso por el gradiente\n",
        "print('theta calculado por el descenso por el gradiente: {:s}'.format(str(theta)))\n",
        "\n",
        "#El costo para 6 bubble tea\n",
        "X_array = [6, 27, 136]\n",
        "X_array[1:3] = (X_array[1:3] - mu) / sigma\n",
        "price = np.dot(X_array, theta)   # Se debe cambiar esto\n",
        "\n",
        "print('El costo para 6 bubble tea es de: ${:.0f}'.format(price))"
      ],
      "metadata": {
        "id": "TGrV8sjRWiQg",
        "colab": {
          "base_uri": "https://localhost:8080/",
          "height": 316
        },
        "outputId": "d396fc84-7384-4d8a-d9ab-0c5bbe57db50"
      },
      "execution_count": 170,
      "outputs": [
        {
          "output_type": "stream",
          "name": "stdout",
          "text": [
            "theta calculado por el descenso por el gradiente: [75.1525     21.73951589  8.77625491]\n",
            "El costo para 6 bubble tea es de: $951\n"
          ]
        },
        {
          "output_type": "display_data",
          "data": {
            "text/plain": [
              "<Figure size 432x288 with 1 Axes>"
            ],
            "image/png": "[encoded data removed]"
          },
          "metadata": {
            "needs_background": "light"
          }
        }
      ]
    },
    {
      "cell_type": "code",
      "source": [
        "plotData(X[:, 1], y)\n",
        "pyplot.plot(X[:, 1], np.dot(X, theta), '-')"
      ],
      "metadata": {
        "id": "QrZoDCD1Wmcy",
        "colab": {
          "base_uri": "https://localhost:8080/",
          "height": 297
        },
        "outputId": "a8de0f1f-af95-4353-fa85-e5ae3d4c4a25"
      },
      "execution_count": 184,
      "outputs": [
        {
          "output_type": "execute_result",
          "data": {
            "text/plain": [
              "[<matplotlib.lines.Line2D at 0x7f32592d0710>]"
            ]
          },
          "metadata": {},
          "execution_count": 184
        },
        {
          "output_type": "display_data",
          "data": {
            "text/plain": [
              "<Figure size 432x288 with 1 Axes>"
            ],
            "image/png": "[encoded data removed]"
          },
          "metadata": {
            "needs_background": "light"
          }
        }
      ]
    }
  ]
}