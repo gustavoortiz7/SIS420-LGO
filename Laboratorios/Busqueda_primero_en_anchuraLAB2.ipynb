{
  "cells": [
    {
      "cell_type": "code",
      "execution_count": null,
      "metadata": {
        "id": "mEs6mnYIegWA"
      },
      "outputs": [],
      "source": [
        "#from google.colab import drive\n",
        "#drive.mount('/content/gdrive/')"
      ]
    },
    {
      "cell_type": "code",
      "execution_count": 2,
      "metadata": {
        "id": "8MzZ7atMhWHV"
      },
      "outputs": [],
      "source": [
        "#import sys\n",
        "#sys.path.append('/content/gdrive/MyDrive/Colab Notebooks/SIS420/Busquedas')\n",
        "\n",
        "from Nodos import Nodo"
      ]
    },
    {
      "cell_type": "code",
      "execution_count": 3,
      "metadata": {
        "colab": {
          "base_uri": "https://localhost:8080/"
        },
        "id": "9D_tV0w3fhWl",
        "outputId": "bc29bf98-5088-496a-e6a4-c94ac0d4bbb6"
      },
      "outputs": [
        {
          "name": "stdout",
          "output_type": "stream",
          "text": [
            "[[4, 2, 3, 1, 5, 6, 8, 7, 9, 10], [2, 4, 3, 1, 5, 6, 8, 7, 9, 10], [2, 3, 4, 1, 5, 6, 8, 7, 9, 10], [2, 3, 1, 4, 5, 6, 8, 7, 9, 10], [2, 1, 3, 4, 5, 6, 8, 7, 9, 10], [1, 2, 3, 4, 5, 6, 8, 7, 9, 10], [1, 2, 3, 4, 5, 6, 7, 8, 9, 10]]\n"
          ]
        }
      ],
      "source": [
        "def busqueda_BPA_solucion(estado_inicial, solucion):\n",
        "    resuelto = False\n",
        "    nodos_visitados = []\n",
        "    nodos_frontera = []\n",
        "\n",
        "    nodo_raiz = Nodo(estado_inicial)\n",
        "    nodos_frontera.append(nodo_raiz)\n",
        "    while (not resuelto) and len(nodos_frontera) != 0:\n",
        "        nodo_actual = nodos_frontera.pop(0)\n",
        "        # extraer nodo y añadirlo a visitados\n",
        "        nodos_visitados.append(nodo_actual)\n",
        "        if nodo_actual.get_estado() == solucion:\n",
        "            # solucion encontrada\n",
        "            resuelto = True\n",
        "            return nodo_actual\n",
        "        else:\n",
        "            # expandir nodos hijo, ya no vuelve a repetirse el mismo numero en los nodos hijos\n",
        "            #por ejemplo si ya hay(2103), en sus nodos hijos no volvera a haber ya que ya existe uno.\n",
        "            estado_nodo = nodo_actual.get_estado()\n",
        "\n",
        "            # operador izquierdo Izquierdo 1Mov\n",
        "            hijo = [estado_nodo[1], estado_nodo[0], estado_nodo[2], estado_nodo[3], estado_nodo[4], estado_nodo[5], estado_nodo[6], estado_nodo[7], estado_nodo[8], estado_nodo[9]]\n",
        "            hijo_izquierda_iz = Nodo(hijo)\n",
        "            if not hijo_izquierda_iz.en_lista(nodos_visitados) and not hijo_izquierda_iz.en_lista(nodos_frontera):\n",
        "                nodos_frontera.append(hijo_izquierda_iz)\n",
        "\n",
        "            # operador central Izquierdo 2Mov\n",
        "            hijo = [estado_nodo[0], estado_nodo[2], estado_nodo[1], estado_nodo[3], estado_nodo[4], estado_nodo[5], estado_nodo[6], estado_nodo[7], estado_nodo[8], estado_nodo[9]]\n",
        "            hijo_centro_izquierda = Nodo(hijo)\n",
        "            if not hijo_centro_izquierda.en_lista(nodos_visitados) and not hijo_centro_izquierda.en_lista(nodos_frontera):\n",
        "                nodos_frontera.append(hijo_centro_izquierda)\n",
        "\n",
        "            # operador derecho Izquierdo 3Mov\n",
        "            hijo = [estado_nodo[0], estado_nodo[1], estado_nodo[3], estado_nodo[2], estado_nodo[4], estado_nodo[5], estado_nodo[6], estado_nodo[7], estado_nodo[8], estado_nodo[9]]\n",
        "            hijo_derecha_izquierda = Nodo(hijo)\n",
        "            if not hijo_derecha_izquierda.en_lista(nodos_visitados) and not hijo_derecha_izquierda.en_lista(nodos_frontera):\n",
        "                nodos_frontera.append(hijo_derecha_izquierda)\n",
        "            \n",
        "            # operador izquierdo Centro 4Mov\n",
        "            hijo = [estado_nodo[0], estado_nodo[1], estado_nodo[2], estado_nodo[4], estado_nodo[3], estado_nodo[5], estado_nodo[6], estado_nodo[7], estado_nodo[8], estado_nodo[9]]\n",
        "            hijo_izquierda_centro = Nodo(hijo)\n",
        "            if not hijo_izquierda_centro.en_lista(nodos_visitados) and not hijo_izquierda_centro.en_lista(nodos_frontera):\n",
        "                nodos_frontera.append(hijo_izquierda_centro)\n",
        "            \n",
        "            # operador centro Centro 5Mov\n",
        "            hijo = [estado_nodo[0], estado_nodo[1], estado_nodo[2], estado_nodo[3], estado_nodo[5], estado_nodo[4], estado_nodo[6], estado_nodo[7], estado_nodo[8], estado_nodo[9]]\n",
        "            hijo_centro_centro = Nodo(hijo)\n",
        "            if not hijo_centro_centro.en_lista(nodos_visitados) and not hijo_centro_centro.en_lista(nodos_frontera):\n",
        "                nodos_frontera.append(hijo_centro_centro)\n",
        "\n",
        "            # operador derecha Centro 6Mov\n",
        "            hijo = [estado_nodo[0], estado_nodo[1], estado_nodo[2], estado_nodo[3], estado_nodo[4], estado_nodo[6], estado_nodo[5], estado_nodo[7], estado_nodo[8], estado_nodo[9]]\n",
        "            hijo_derecha_centro = Nodo(hijo)\n",
        "            if not hijo_derecha_centro.en_lista(nodos_visitados) and not hijo_derecha_centro.en_lista(nodos_frontera):\n",
        "                nodos_frontera.append(hijo_derecha_centro)\n",
        "            \n",
        "            # operador izquierdo DERECHA 7Mov\n",
        "            hijo = [estado_nodo[0], estado_nodo[1], estado_nodo[2], estado_nodo[3], estado_nodo[4], estado_nodo[5], estado_nodo[7], estado_nodo[6], estado_nodo[8], estado_nodo[9]]\n",
        "            hijo_izquierda_derecha = Nodo(hijo)\n",
        "            if not hijo_izquierda_derecha.en_lista(nodos_visitados) and not hijo_izquierda_derecha.en_lista(nodos_frontera):\n",
        "                nodos_frontera.append(hijo_izquierda_derecha)\n",
        "\n",
        "            # operador centro DERECHA 8Mov\n",
        "            hijo = [estado_nodo[0], estado_nodo[1], estado_nodo[2], estado_nodo[3], estado_nodo[4], estado_nodo[5], estado_nodo[6], estado_nodo[8], estado_nodo[7], estado_nodo[9]]\n",
        "            hijo_centro_derecha = Nodo(hijo)\n",
        "            if not hijo_centro_derecha.en_lista(nodos_visitados) and not hijo_centro_derecha.en_lista(nodos_frontera):\n",
        "                nodos_frontera.append(hijo_centro_derecha)\n",
        "            \n",
        "            # operador derecha DERECHA 9Mov\n",
        "            hijo = [estado_nodo[0], estado_nodo[1], estado_nodo[2], estado_nodo[3], estado_nodo[4], estado_nodo[5], estado_nodo[6], estado_nodo[7], estado_nodo[9], estado_nodo[8]]\n",
        "            hijo_derecha_derecha = Nodo(hijo)\n",
        "            if not hijo_derecha_derecha.en_lista(nodos_visitados) and not hijo_derecha_derecha.en_lista(nodos_frontera):\n",
        "                nodos_frontera.append(hijo_derecha_derecha)\n",
        "\n",
        "            nodo_actual.set_hijo([hijo_izquierda_iz, hijo_centro_izquierda, hijo_derecha_izquierda, hijo_izquierda_centro, hijo_centro_centro, hijo_derecha_centro, hijo_izquierda_derecha, hijo_centro_derecha, hijo_derecha_derecha])\n",
        "\n",
        "\n",
        "if __name__ == \"__main__\":\n",
        "    estado_inicial = [4, 2, 3, 1, 5, 6, 8, 7, 9, 10]\n",
        "    solucion = [1, 2, 3, 4, 5, 6, 7, 8, 9, 10]\n",
        "    nodo_solucion = busqueda_BPA_solucion(estado_inicial, solucion)\n",
        "    # mostrar resultado\n",
        "    resultado = []\n",
        "    nodo_actual = nodo_solucion\n",
        "    while nodo_actual.get_padre() is not None:\n",
        "        resultado.append(nodo_actual.get_estado())\n",
        "        nodo_actual = nodo_actual.get_padre()\n",
        "\n",
        "    resultado.append(estado_inicial)\n",
        "    resultado.reverse()\n",
        "    print(resultado)"
      ]
    },
    {
      "cell_type": "code",
      "execution_count": null,
      "metadata": {
        "id": "CMEPHB6nT6dN"
      },
      "outputs": [],
      "source": [
        "for multi in range(1,11):\n",
        "  print(\"La tabla del \"+str(multi))\n",
        "  for j in range(1,11):\n",
        "    print(str(multi)+ \"*\" + str(j)+ \" = \"+ str(multi * j))"
      ]
    }
  ],
  "metadata": {
    "colab": {
      "collapsed_sections": [],
      "name": "Busqueda_primero_en_anchura_01J.ipynb",
      "provenance": []
    },
    "kernelspec": {
      "display_name": "Python 3.10.4 64-bit",
      "language": "python",
      "name": "python3"
    },
    "language_info": {
      "name": "python",
      "version": "3.10.4"
    },
    "vscode": {
      "interpreter": {
        "hash": "11365b20d60da1b4546f5b65d954f68008b29ae50e0838a05fce45676f39e28a"
      }
    }
  },
  "nbformat": 4,
  "nbformat_minor": 0
}
